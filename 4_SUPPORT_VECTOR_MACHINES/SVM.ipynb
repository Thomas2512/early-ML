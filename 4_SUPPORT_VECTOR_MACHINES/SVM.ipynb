{
  "nbformat": 4,
  "nbformat_minor": 0,
  "metadata": {
    "kernelspec": {
      "display_name": "Python 3",
      "language": "python",
      "name": "python3"
    },
    "language_info": {
      "codemirror_mode": {
        "name": "ipython",
        "version": 3
      },
      "file_extension": ".py",
      "mimetype": "text/x-python",
      "name": "python",
      "nbconvert_exporter": "python",
      "pygments_lexer": "ipython3",
      "version": "3.6.3"
    },
    "colab": {
      "name": "SVM.ipynb",
      "provenance": []
    }
  },
  "cells": [
    {
      "cell_type": "markdown",
      "metadata": {
        "id": "qG6sOrEH2S3i",
        "colab_type": "text"
      },
      "source": [
        "# Introduction aux SVM"
      ]
    },
    {
      "cell_type": "markdown",
      "metadata": {
        "id": "nMvfymej2S3q",
        "colab_type": "text"
      },
      "source": [
        "## Implémentation des SVM\n",
        "\n",
        "Les SVM reposent sur la résolution d'un problème d'optimisation quadratique convexe (formulation dual) de taille le nombre d'exemples. Indépendamment des algorithmes spécifiques aux SVM (SMO,...), il faut garder à l'esprit que la résolution d'un tel problème a une complexité au moins en $\\mathcal{O}(n^2)$ où $n$ est le nombre d'exemples."
      ]
    },
    {
      "cell_type": "markdown",
      "metadata": {
        "id": "b3qZvP7k2S3u",
        "colab_type": "text"
      },
      "source": [
        "Néanmoins, dans le cas linéaire, il existe des implémentations de la descente de gradient stochastique, qui, si elles convergent moins bien, ont toutefois une complexité en $\\mathcal{O}(n)$ et donc permettent de traiter des problèmes de grande taille."
      ]
    },
    {
      "cell_type": "markdown",
      "metadata": {
        "id": "0xfgoeQJ2S3y",
        "colab_type": "text"
      },
      "source": [
        "La difficulté majeure des SVM est le réglage du paramètre de régularisation (souvent appelé $C$) dans tous les cas et dans le cas non linéaire le réglage du noyau (le noyau exponentiel le plus simple fait par exemple apparaître le paramètre $\\gamma$)."
      ]
    },
    {
      "cell_type": "markdown",
      "metadata": {
        "id": "98Hw0BVh2S34",
        "colab_type": "text"
      },
      "source": [
        "Pour les règler, on procède comme pour les algorithmes de Machine Learning, on va tester des valeurs différentes de ces hyperparamètres. Pour chacune de ces valeurs, on va estimer l'erreur de généralisation (via la validation croisée). Il est malheureusement notoire que les SVM (notamment non linéaire) n'apprennent bien que part une gamme de valeurs d'hyperparamètres restreinte, aussi est-il important de chercher efficacement les meilleurs hyperparamètres."
      ]
    },
    {
      "cell_type": "markdown",
      "metadata": {
        "id": "ecRwMMOY2S3-",
        "colab_type": "text"
      },
      "source": [
        "Tout ceci nous conduit à la nécessité de disposer d'implémentations efficaces des SVM, il en existe quelques unes :\n",
        "- `libsvm`, librairie en C++ wrappée en Python dans `sklearn` dans le module `svm`, qui traite les SVM non linéaires\n",
        "- `liblinear`, librairie associée à la précédente qui traite les SVM linéaire et Regression Logistique et implémente des méthodes d'optimisation dédiées (pour les SVM mais aussi pour la Régression Logistique) wrappée en Python dans le module `LinearSVC` de `sklearn`\n",
        "- `SGDClassifier` qui provient d'une implémentation d'une Stochastic Gradient Descent pour les SVM par L. Bottou `svmsgd`"
      ]
    },
    {
      "cell_type": "markdown",
      "metadata": {
        "id": "q2r5GI9B2S4C",
        "colab_type": "text"
      },
      "source": [
        "## Introduction avec `scikit-learn`"
      ]
    },
    {
      "cell_type": "markdown",
      "metadata": {
        "id": "dLTGPX602S4E",
        "colab_type": "text"
      },
      "source": [
        "Pour cette introduction aux SVM, on va utiliser un dataset classique en régression: `Pima Diabetes Dataset`"
      ]
    },
    {
      "cell_type": "code",
      "metadata": {
        "id": "-nIZ5wvR2S4G",
        "colab_type": "code",
        "colab": {}
      },
      "source": [
        "from sklearn import datasets\n",
        "diab = datasets.load_diabetes()"
      ],
      "execution_count": 0,
      "outputs": []
    },
    {
      "cell_type": "markdown",
      "metadata": {
        "id": "hUM5Rrt22S4Q",
        "colab_type": "text"
      },
      "source": [
        "`scikit-learn` dispose de quelques datasets classiques. Ce dernier vient d'une étude très connue sur l'apparition du diabète sur des femmes indiennes."
      ]
    },
    {
      "cell_type": "code",
      "metadata": {
        "id": "rFnCvh_92S4U",
        "colab_type": "code",
        "colab": {
          "base_uri": "https://localhost:8080/",
          "height": 677
        },
        "outputId": "db608b96-a9eb-451b-c4ef-2a81f34830db"
      },
      "source": [
        "print(diab.DESCR)"
      ],
      "execution_count": 2,
      "outputs": [
        {
          "output_type": "stream",
          "text": [
            ".. _diabetes_dataset:\n",
            "\n",
            "Diabetes dataset\n",
            "----------------\n",
            "\n",
            "Ten baseline variables, age, sex, body mass index, average blood\n",
            "pressure, and six blood serum measurements were obtained for each of n =\n",
            "442 diabetes patients, as well as the response of interest, a\n",
            "quantitative measure of disease progression one year after baseline.\n",
            "\n",
            "**Data Set Characteristics:**\n",
            "\n",
            "  :Number of Instances: 442\n",
            "\n",
            "  :Number of Attributes: First 10 columns are numeric predictive values\n",
            "\n",
            "  :Target: Column 11 is a quantitative measure of disease progression one year after baseline\n",
            "\n",
            "  :Attribute Information:\n",
            "      - Age\n",
            "      - Sex\n",
            "      - Body mass index\n",
            "      - Average blood pressure\n",
            "      - S1\n",
            "      - S2\n",
            "      - S3\n",
            "      - S4\n",
            "      - S5\n",
            "      - S6\n",
            "\n",
            "Note: Each of these 10 feature variables have been mean centered and scaled by the standard deviation times `n_samples` (i.e. the sum of squares of each column totals 1).\n",
            "\n",
            "Source URL:\n",
            "https://www4.stat.ncsu.edu/~boos/var.select/diabetes.html\n",
            "\n",
            "For more information see:\n",
            "Bradley Efron, Trevor Hastie, Iain Johnstone and Robert Tibshirani (2004) \"Least Angle Regression,\" Annals of Statistics (with discussion), 407-499.\n",
            "(https://web.stanford.edu/~hastie/Papers/LARS/LeastAngle_2002.pdf)\n"
          ],
          "name": "stdout"
        }
      ]
    },
    {
      "cell_type": "code",
      "metadata": {
        "id": "HGfcvSbv2S4g",
        "colab_type": "code",
        "colab": {}
      },
      "source": [
        "X = diab.data\n",
        "y = diab.target"
      ],
      "execution_count": 0,
      "outputs": []
    },
    {
      "cell_type": "markdown",
      "metadata": {
        "id": "IZkAyLNn2S4m",
        "colab_type": "text"
      },
      "source": [
        "On commence par séparer les données en base d'apprentissage et base de test.\n",
        "*NB* : la base de test est à oublier pendant toute la construction du modèle, elle ne sera appelée à la toute fin, une fois le modèle final entraîné. Ces données correspondent à ce que notre modèle prédictif mis en production aurait comme entrées."
      ]
    },
    {
      "cell_type": "code",
      "metadata": {
        "id": "0rYDTLQp2S4q",
        "colab_type": "code",
        "colab": {}
      },
      "source": [
        "from sklearn.model_selection import train_test_split"
      ],
      "execution_count": 0,
      "outputs": []
    },
    {
      "cell_type": "markdown",
      "metadata": {
        "id": "70mCApEz2S40",
        "colab_type": "text"
      },
      "source": [
        "Cette dernière fonction est très simple"
      ]
    },
    {
      "cell_type": "code",
      "metadata": {
        "id": "EnrClV1B2S40",
        "colab_type": "code",
        "colab": {},
        "outputId": "2b5a2e26-4775-4039-f131-fbfd7b996367"
      },
      "source": [
        "help(train_test_split)"
      ],
      "execution_count": 0,
      "outputs": [
        {
          "output_type": "stream",
          "text": [
            "Help on function train_test_split in module sklearn.model_selection._split:\n",
            "\n",
            "train_test_split(*arrays, **options)\n",
            "    Split arrays or matrices into random train and test subsets\n",
            "    \n",
            "    Quick utility that wraps input validation and\n",
            "    ``next(ShuffleSplit().split(X, y))`` and application to input data\n",
            "    into a single call for splitting (and optionally subsampling) data in a\n",
            "    oneliner.\n",
            "    \n",
            "    Read more in the :ref:`User Guide <cross_validation>`.\n",
            "    \n",
            "    Parameters\n",
            "    ----------\n",
            "    *arrays : sequence of indexables with same length / shape[0]\n",
            "        Allowed inputs are lists, numpy arrays, scipy-sparse\n",
            "        matrices or pandas dataframes.\n",
            "    \n",
            "    test_size : float, int, None, optional\n",
            "        If float, should be between 0.0 and 1.0 and represent the proportion\n",
            "        of the dataset to include in the test split. If int, represents the\n",
            "        absolute number of test samples. If None, the value is set to the\n",
            "        complement of the train size. By default, the value is set to 0.25.\n",
            "        The default will change in version 0.21. It will remain 0.25 only\n",
            "        if ``train_size`` is unspecified, otherwise it will complement\n",
            "        the specified ``train_size``.\n",
            "    \n",
            "    train_size : float, int, or None, default None\n",
            "        If float, should be between 0.0 and 1.0 and represent the\n",
            "        proportion of the dataset to include in the train split. If\n",
            "        int, represents the absolute number of train samples. If None,\n",
            "        the value is automatically set to the complement of the test size.\n",
            "    \n",
            "    random_state : int, RandomState instance or None, optional (default=None)\n",
            "        If int, random_state is the seed used by the random number generator;\n",
            "        If RandomState instance, random_state is the random number generator;\n",
            "        If None, the random number generator is the RandomState instance used\n",
            "        by `np.random`.\n",
            "    \n",
            "    shuffle : boolean, optional (default=True)\n",
            "        Whether or not to shuffle the data before splitting. If shuffle=False\n",
            "        then stratify must be None.\n",
            "    \n",
            "    stratify : array-like or None (default is None)\n",
            "        If not None, data is split in a stratified fashion, using this as\n",
            "        the class labels.\n",
            "    \n",
            "    Returns\n",
            "    -------\n",
            "    splitting : list, length=2 * len(arrays)\n",
            "        List containing train-test split of inputs.\n",
            "    \n",
            "        .. versionadded:: 0.16\n",
            "            If the input is sparse, the output will be a\n",
            "            ``scipy.sparse.csr_matrix``. Else, output type is the same as the\n",
            "            input type.\n",
            "    \n",
            "    Examples\n",
            "    --------\n",
            "    >>> import numpy as np\n",
            "    >>> from sklearn.model_selection import train_test_split\n",
            "    >>> X, y = np.arange(10).reshape((5, 2)), range(5)\n",
            "    >>> X\n",
            "    array([[0, 1],\n",
            "           [2, 3],\n",
            "           [4, 5],\n",
            "           [6, 7],\n",
            "           [8, 9]])\n",
            "    >>> list(y)\n",
            "    [0, 1, 2, 3, 4]\n",
            "    \n",
            "    >>> X_train, X_test, y_train, y_test = train_test_split(\n",
            "    ...     X, y, test_size=0.33, random_state=42)\n",
            "    ...\n",
            "    >>> X_train\n",
            "    array([[4, 5],\n",
            "           [0, 1],\n",
            "           [6, 7]])\n",
            "    >>> y_train\n",
            "    [2, 0, 3]\n",
            "    >>> X_test\n",
            "    array([[2, 3],\n",
            "           [8, 9]])\n",
            "    >>> y_test\n",
            "    [1, 4]\n",
            "    \n",
            "    >>> train_test_split(y, shuffle=False)\n",
            "    [[0, 1, 2], [3, 4]]\n",
            "\n"
          ],
          "name": "stdout"
        }
      ]
    },
    {
      "cell_type": "markdown",
      "metadata": {
        "id": "sLD4fB7j2S48",
        "colab_type": "text"
      },
      "source": [
        "On choisit de garder $20 \\%$ de points dans une base de test."
      ]
    },
    {
      "cell_type": "code",
      "metadata": {
        "id": "udmh8pQh2S5A",
        "colab_type": "code",
        "colab": {}
      },
      "source": [
        "X_train, X_test, Y_train, Y_test = train_test_split(X, y, test_size=0.2, random_state=12)"
      ],
      "execution_count": 0,
      "outputs": []
    },
    {
      "cell_type": "code",
      "metadata": {
        "id": "A1T_20Hx2S5G",
        "colab_type": "code",
        "colab": {},
        "outputId": "f32a33f5-eedb-43e9-b3f6-0feda783c2f6"
      },
      "source": [
        "X_train.shape"
      ],
      "execution_count": 0,
      "outputs": [
        {
          "output_type": "execute_result",
          "data": {
            "text/plain": [
              "(353, 10)"
            ]
          },
          "metadata": {
            "tags": []
          },
          "execution_count": 13
        }
      ]
    },
    {
      "cell_type": "code",
      "metadata": {
        "id": "DVT_4hZC2S5Q",
        "colab_type": "code",
        "colab": {}
      },
      "source": [
        "from sklearn.model_selection import GridSearchCV"
      ],
      "execution_count": 0,
      "outputs": []
    },
    {
      "cell_type": "markdown",
      "metadata": {
        "id": "aXBiLYWi2S5U",
        "colab_type": "text"
      },
      "source": [
        "`GridSearchCV` va nous permettre de procéder à une validation croisée directement sans avoir à la programmer (même si ça n'a rien de compliqué)"
      ]
    },
    {
      "cell_type": "markdown",
      "metadata": {
        "id": "hONQ2kDR2S5W",
        "colab_type": "text"
      },
      "source": [
        "On commence par initier une instance de SVM pour la classification"
      ]
    },
    {
      "cell_type": "code",
      "metadata": {
        "id": "YrNz7VBH2S5W",
        "colab_type": "code",
        "colab": {}
      },
      "source": [
        "from sklearn.svm import SVR"
      ],
      "execution_count": 0,
      "outputs": []
    },
    {
      "cell_type": "code",
      "metadata": {
        "id": "fuldNfhW2S5a",
        "colab_type": "code",
        "colab": {}
      },
      "source": [
        "clf_svm = SVR()"
      ],
      "execution_count": 0,
      "outputs": []
    },
    {
      "cell_type": "markdown",
      "metadata": {
        "id": "CMtGd83C2S5g",
        "colab_type": "text"
      },
      "source": [
        "Il s'agit d'un objet régresseur SVM qui comprend déjà beaucoup d'attributs et de méthodes"
      ]
    },
    {
      "cell_type": "code",
      "metadata": {
        "id": "OlyR2pMy2S5i",
        "colab_type": "code",
        "colab": {},
        "outputId": "0eab421b-0cb5-41a7-a5d0-4b12bc8b3c33"
      },
      "source": [
        "clf_svm.kernel"
      ],
      "execution_count": 0,
      "outputs": [
        {
          "output_type": "execute_result",
          "data": {
            "text/plain": [
              "'rbf'"
            ]
          },
          "metadata": {
            "tags": []
          },
          "execution_count": 17
        }
      ]
    },
    {
      "cell_type": "code",
      "metadata": {
        "id": "1mng2TOa2S5m",
        "colab_type": "code",
        "colab": {},
        "outputId": "b07be99f-2f7b-4b7f-c3bc-8417ff66a497"
      },
      "source": [
        "clf_svm.C"
      ],
      "execution_count": 0,
      "outputs": [
        {
          "output_type": "execute_result",
          "data": {
            "text/plain": [
              "1.0"
            ]
          },
          "metadata": {
            "tags": []
          },
          "execution_count": 18
        }
      ]
    },
    {
      "cell_type": "code",
      "metadata": {
        "id": "HCvtXvGk2S5q",
        "colab_type": "code",
        "colab": {},
        "outputId": "03ed6fb3-f2bb-4ce4-a419-ac04242d049d"
      },
      "source": [
        "clf_svm.gamma"
      ],
      "execution_count": 0,
      "outputs": [
        {
          "output_type": "execute_result",
          "data": {
            "text/plain": [
              "'auto'"
            ]
          },
          "metadata": {
            "tags": []
          },
          "execution_count": 19
        }
      ]
    },
    {
      "cell_type": "code",
      "metadata": {
        "id": "KQr6I-Jt2S5u",
        "colab_type": "code",
        "colab": {},
        "outputId": "6994cd7f-766d-42cc-a4eb-55bc486ce03b"
      },
      "source": [
        "clf_svm.epsilon"
      ],
      "execution_count": 0,
      "outputs": [
        {
          "output_type": "execute_result",
          "data": {
            "text/plain": [
              "0.1"
            ]
          },
          "metadata": {
            "tags": []
          },
          "execution_count": 20
        }
      ]
    },
    {
      "cell_type": "markdown",
      "metadata": {
        "id": "PaT6XYkF2S52",
        "colab_type": "text"
      },
      "source": [
        "On a donc un objet permettant de réaliser une classification en s'appuyant sur les RBF kernel SVM avec des paramètres de régularisation et de noyau (méthode de réglage automatique)"
      ]
    },
    {
      "cell_type": "markdown",
      "metadata": {
        "id": "FbabgEh42S52",
        "colab_type": "text"
      },
      "source": [
        "## Entraînement"
      ]
    },
    {
      "cell_type": "markdown",
      "metadata": {
        "id": "vFwSVgq02S54",
        "colab_type": "text"
      },
      "source": [
        "Pour entraîner cet objet sur les données"
      ]
    },
    {
      "cell_type": "code",
      "metadata": {
        "id": "zA_E0MX72S54",
        "colab_type": "code",
        "colab": {},
        "outputId": "e4e32abf-339c-4326-f03b-0779d046fa01"
      },
      "source": [
        "clf_svm.fit(X_train, Y_train)"
      ],
      "execution_count": 0,
      "outputs": [
        {
          "output_type": "execute_result",
          "data": {
            "text/plain": [
              "SVR(C=1.0, cache_size=200, coef0=0.0, degree=3, epsilon=0.1, gamma='auto',\n",
              "  kernel='rbf', max_iter=-1, shrinking=True, tol=0.001, verbose=False)"
            ]
          },
          "metadata": {
            "tags": []
          },
          "execution_count": 21
        }
      ]
    },
    {
      "cell_type": "markdown",
      "metadata": {
        "id": "Y-tK-dIQ2S58",
        "colab_type": "text"
      },
      "source": [
        "On peut déjà estimer le score sur la base d'apprentissage"
      ]
    },
    {
      "cell_type": "code",
      "metadata": {
        "id": "1ONOdPgU2S58",
        "colab_type": "code",
        "colab": {},
        "outputId": "8c6e1016-80a9-4a94-f3fd-876e2e6b7220"
      },
      "source": [
        "clf_svm.score(X_train, Y_train)"
      ],
      "execution_count": 0,
      "outputs": [
        {
          "output_type": "execute_result",
          "data": {
            "text/plain": [
              "-0.021821874255633533"
            ]
          },
          "metadata": {
            "tags": []
          },
          "execution_count": 22
        }
      ]
    },
    {
      "cell_type": "code",
      "metadata": {
        "id": "96oEEdh72S6A",
        "colab_type": "code",
        "colab": {},
        "outputId": "96a114a3-5c28-47a6-eb17-8b374081da02"
      },
      "source": [
        "%pylab inline"
      ],
      "execution_count": 0,
      "outputs": [
        {
          "output_type": "stream",
          "text": [
            "Populating the interactive namespace from numpy and matplotlib\n"
          ],
          "name": "stdout"
        }
      ]
    },
    {
      "cell_type": "code",
      "metadata": {
        "id": "HEAF2YnO2S6C",
        "colab_type": "code",
        "colab": {},
        "outputId": "711745bb-47da-4744-a469-233d647dab6a"
      },
      "source": [
        "plt.plot(clf_svm.predict(X_train), Y_train,'o')"
      ],
      "execution_count": 0,
      "outputs": [
        {
          "output_type": "execute_result",
          "data": {
            "text/plain": [
              "[<matplotlib.lines.Line2D at 0xa257a20>]"
            ]
          },
          "metadata": {
            "tags": []
          },
          "execution_count": 25
        },
        {
          "output_type": "display_data",
          "data": {
            "image/png": "[encoded data removed]",
            "text/plain": [
              "<matplotlib.figure.Figure at 0x9e710f0>"
            ]
          },
          "metadata": {
            "tags": []
          }
        }
      ]
    },
    {
      "cell_type": "markdown",
      "metadata": {
        "id": "MDDzIx5V2S6G",
        "colab_type": "text"
      },
      "source": [
        "La régression n'est pas très efficace, elle donne quasiment la même valeur pour tous les échantillons. La meilleure solution est de parcourir l'espace des hyperparamètres et de réaliser pour chaque combinaison une estimation de l'erreur de généralisation par validation croisée."
      ]
    },
    {
      "cell_type": "code",
      "metadata": {
        "collapsed": true,
        "id": "bsPs0b852S6I",
        "colab_type": "code",
        "colab": {}
      },
      "source": [
        "gammas = np.logspace(0.5,1,5)\n",
        "Cs     = np.logspace(1.7,2.5,5)\n",
        "epsilons = np.logspace(0.2,0.7,5)\n",
        "\n",
        "param_dict = [{'gamma': gammas, 'C': Cs, 'epsilon': epsilons}]\n",
        "cv_svr = GridSearchCV(clf_svm, param_dict, cv = 5, refit=True)"
      ],
      "execution_count": 0,
      "outputs": []
    },
    {
      "cell_type": "code",
      "metadata": {
        "id": "TsPA2hMq2S6K",
        "colab_type": "code",
        "colab": {},
        "outputId": "8f7a8846-2255-4bbf-a911-5446ebd63c2f"
      },
      "source": [
        "cv_svr.fit(X_train, Y_train)"
      ],
      "execution_count": 0,
      "outputs": [
        {
          "output_type": "execute_result",
          "data": {
            "text/plain": [
              "GridSearchCV(cv=5, error_score='raise',\n",
              "       estimator=SVR(C=1.0, cache_size=200, coef0=0.0, degree=3, epsilon=0.1, gamma='auto',\n",
              "  kernel='rbf', max_iter=-1, shrinking=True, tol=0.001, verbose=False),\n",
              "       fit_params=None, iid=True, n_jobs=1,\n",
              "       param_grid=[{'gamma': array([ 3.16228,  4.21697,  5.62341,  7.49894, 10.     ]), 'epsilon': array([1.58489, 2.11349, 2.81838, 3.75837, 5.01187]), 'C': array([ 50.11872,  79.43282, 125.89254, 199.52623, 316.22777])}],\n",
              "       pre_dispatch='2*n_jobs', refit=True, return_train_score='warn',\n",
              "       scoring=None, verbose=0)"
            ]
          },
          "metadata": {
            "tags": []
          },
          "execution_count": 27
        }
      ]
    },
    {
      "cell_type": "code",
      "metadata": {
        "id": "_cpbRpVW2S6M",
        "colab_type": "code",
        "colab": {},
        "outputId": "2c382e06-93a7-49a4-d4fc-d3fc05d3f1a4"
      },
      "source": [
        "plt.plot(cv_svr.predict(X_train), Y_train,'o')"
      ],
      "execution_count": 0,
      "outputs": [
        {
          "output_type": "execute_result",
          "data": {
            "text/plain": [
              "[<matplotlib.lines.Line2D at 0xa29ce48>]"
            ]
          },
          "metadata": {
            "tags": []
          },
          "execution_count": 28
        },
        {
          "output_type": "display_data",
          "data": {
            "image/png": "[encoded data removed]",
            "text/plain": [
              "<matplotlib.figure.Figure at 0xa27fda0>"
            ]
          },
          "metadata": {
            "tags": []
          }
        }
      ]
    },
    {
      "cell_type": "markdown",
      "metadata": {
        "id": "PgQq5yMC2S6U",
        "colab_type": "text"
      },
      "source": [
        "La régression s'est largement améliorée."
      ]
    },
    {
      "cell_type": "markdown",
      "metadata": {
        "id": "hcWHZ6Ei2S6Y",
        "colab_type": "text"
      },
      "source": [
        "**Exercice 1** : Estimer l'erreur de généralisation à l'aide de la base de test."
      ]
    },
    {
      "cell_type": "code",
      "metadata": {
        "collapsed": true,
        "id": "od6ecCtF2S6Y",
        "colab_type": "code",
        "colab": {}
      },
      "source": [
        ""
      ],
      "execution_count": 0,
      "outputs": []
    },
    {
      "cell_type": "markdown",
      "metadata": {
        "id": "Cqc91K7A2S6a",
        "colab_type": "text"
      },
      "source": [
        "**Exercice 2** : Tester avec d'autres noyaux"
      ]
    },
    {
      "cell_type": "code",
      "metadata": {
        "collapsed": true,
        "id": "ZpoxjDDA2S6a",
        "colab_type": "code",
        "colab": {}
      },
      "source": [
        ""
      ],
      "execution_count": 0,
      "outputs": []
    },
    {
      "cell_type": "markdown",
      "metadata": {
        "id": "XZkFviS_2S6c",
        "colab_type": "text"
      },
      "source": [
        "**Exercice 3** : Tester avec des SVR linéaires"
      ]
    },
    {
      "cell_type": "markdown",
      "metadata": {
        "id": "zWddqt_W2S6e",
        "colab_type": "text"
      },
      "source": [
        "## Reproduisons l'exemple du cours sur les SVM"
      ]
    },
    {
      "cell_type": "code",
      "metadata": {
        "collapsed": true,
        "id": "yGPWBcuE2S6e",
        "colab_type": "code",
        "colab": {}
      },
      "source": [
        "from sklearn import svm, metrics, datasets"
      ],
      "execution_count": 0,
      "outputs": []
    },
    {
      "cell_type": "code",
      "metadata": {
        "collapsed": true,
        "id": "O1-lqyN12S6g",
        "colab_type": "code",
        "colab": {}
      },
      "source": [
        "iris = datasets.load_iris()"
      ],
      "execution_count": 0,
      "outputs": []
    },
    {
      "cell_type": "markdown",
      "metadata": {
        "id": "6d5jVeQB2S6i",
        "colab_type": "text"
      },
      "source": [
        "Regardons la description des données"
      ]
    },
    {
      "cell_type": "code",
      "metadata": {
        "id": "X855rc542S6i",
        "colab_type": "code",
        "colab": {},
        "outputId": "d83c9a81-df74-4707-d50b-2edfa062d9eb"
      },
      "source": [
        "print (\"Iris data set Description :: \", iris['DESCR'])"
      ],
      "execution_count": 0,
      "outputs": [
        {
          "output_type": "stream",
          "text": [
            "Iris data set Description ::  Iris Plants Database\n",
            "====================\n",
            "\n",
            "Notes\n",
            "-----\n",
            "Data Set Characteristics:\n",
            "    :Number of Instances: 150 (50 in each of three classes)\n",
            "    :Number of Attributes: 4 numeric, predictive attributes and the class\n",
            "    :Attribute Information:\n",
            "        - sepal length in cm\n",
            "        - sepal width in cm\n",
            "        - petal length in cm\n",
            "        - petal width in cm\n",
            "        - class:\n",
            "                - Iris-Setosa\n",
            "                - Iris-Versicolour\n",
            "                - Iris-Virginica\n",
            "    :Summary Statistics:\n",
            "\n",
            "    ============== ==== ==== ======= ===== ====================\n",
            "                    Min  Max   Mean    SD   Class Correlation\n",
            "    ============== ==== ==== ======= ===== ====================\n",
            "    sepal length:   4.3  7.9   5.84   0.83    0.7826\n",
            "    sepal width:    2.0  4.4   3.05   0.43   -0.4194\n",
            "    petal length:   1.0  6.9   3.76   1.76    0.9490  (high!)\n",
            "    petal width:    0.1  2.5   1.20  0.76     0.9565  (high!)\n",
            "    ============== ==== ==== ======= ===== ====================\n",
            "\n",
            "    :Missing Attribute Values: None\n",
            "    :Class Distribution: 33.3% for each of 3 classes.\n",
            "    :Creator: R.A. Fisher\n",
            "    :Donor: Michael Marshall (MARSHALL%PLU@io.arc.nasa.gov)\n",
            "    :Date: July, 1988\n",
            "\n",
            "This is a copy of UCI ML iris datasets.\n",
            "http://archive.ics.uci.edu/ml/datasets/Iris\n",
            "\n",
            "The famous Iris database, first used by Sir R.A Fisher\n",
            "\n",
            "This is perhaps the best known database to be found in the\n",
            "pattern recognition literature.  Fisher's paper is a classic in the field and\n",
            "is referenced frequently to this day.  (See Duda & Hart, for example.)  The\n",
            "data set contains 3 classes of 50 instances each, where each class refers to a\n",
            "type of iris plant.  One class is linearly separable from the other 2; the\n",
            "latter are NOT linearly separable from each other.\n",
            "\n",
            "References\n",
            "----------\n",
            "   - Fisher,R.A. \"The use of multiple measurements in taxonomic problems\"\n",
            "     Annual Eugenics, 7, Part II, 179-188 (1936); also in \"Contributions to\n",
            "     Mathematical Statistics\" (John Wiley, NY, 1950).\n",
            "   - Duda,R.O., & Hart,P.E. (1973) Pattern Classification and Scene Analysis.\n",
            "     (Q327.D83) John Wiley & Sons.  ISBN 0-471-22361-1.  See page 218.\n",
            "   - Dasarathy, B.V. (1980) \"Nosing Around the Neighborhood: A New System\n",
            "     Structure and Classification Rule for Recognition in Partially Exposed\n",
            "     Environments\".  IEEE Transactions on Pattern Analysis and Machine\n",
            "     Intelligence, Vol. PAMI-2, No. 1, 67-71.\n",
            "   - Gates, G.W. (1972) \"The Reduced Nearest Neighbor Rule\".  IEEE Transactions\n",
            "     on Information Theory, May 1972, 431-433.\n",
            "   - See also: 1988 MLC Proceedings, 54-64.  Cheeseman et al\"s AUTOCLASS II\n",
            "     conceptual clustering system finds 3 classes in the data.\n",
            "   - Many, many more ...\n",
            "\n"
          ],
          "name": "stdout"
        }
      ]
    },
    {
      "cell_type": "markdown",
      "metadata": {
        "id": "33kUfAvm2S6k",
        "colab_type": "text"
      },
      "source": [
        "Il y a 4 variables d'entrée"
      ]
    },
    {
      "cell_type": "code",
      "metadata": {
        "collapsed": true,
        "id": "_WaSxnF52S6m",
        "colab_type": "code",
        "colab": {}
      },
      "source": [
        "X=iris.data"
      ],
      "execution_count": 0,
      "outputs": []
    },
    {
      "cell_type": "markdown",
      "metadata": {
        "id": "EQByeUw32S6o",
        "colab_type": "text"
      },
      "source": [
        "On stocke le numéro de la classe dans y, il varie entre 0 et 2"
      ]
    },
    {
      "cell_type": "code",
      "metadata": {
        "collapsed": true,
        "id": "o-ZSIAKG2S6o",
        "colab_type": "code",
        "colab": {}
      },
      "source": [
        "y=iris.target"
      ],
      "execution_count": 0,
      "outputs": []
    },
    {
      "cell_type": "markdown",
      "metadata": {
        "id": "pkbdwnin2S6q",
        "colab_type": "text"
      },
      "source": [
        "Traçons les données"
      ]
    },
    {
      "cell_type": "code",
      "metadata": {
        "collapsed": true,
        "id": "tugUosuM2S6q",
        "colab_type": "code",
        "colab": {}
      },
      "source": [
        "import matplotlib.pyplot as plt"
      ],
      "execution_count": 0,
      "outputs": []
    },
    {
      "cell_type": "code",
      "metadata": {
        "id": "pXL7ivLM2S6s",
        "colab_type": "code",
        "colab": {},
        "outputId": "f435e4af-c87f-456b-b933-6a07042ebe4f"
      },
      "source": [
        "plt.scatter(X[:, 0], X[:, 1], c=y, cmap=plt.cm.coolwarm)\n",
        "plt.xlabel('Sepal length')\n",
        "plt.ylabel('Sepal width')\n",
        "plt.title('Sepal Width & Length')\n",
        "plt.show()"
      ],
      "execution_count": 0,
      "outputs": [
        {
          "output_type": "display_data",
          "data": {
            "image/png": "[encoded data removed]",
            "text/plain": [
              "<matplotlib.figure.Figure at 0x1d268b32ef0>"
            ]
          },
          "metadata": {
            "tags": []
          }
        }
      ]
    },
    {
      "cell_type": "markdown",
      "metadata": {
        "id": "KyNvd1Ws2S6u",
        "colab_type": "text"
      },
      "source": [
        "Séparons les 150 données en 75 données d'apprentissage et 75 de test"
      ]
    },
    {
      "cell_type": "code",
      "metadata": {
        "collapsed": true,
        "id": "HMEB0BPk2S6w",
        "colab_type": "code",
        "colab": {}
      },
      "source": [
        "from sklearn.model_selection import train_test_split"
      ],
      "execution_count": 0,
      "outputs": []
    },
    {
      "cell_type": "code",
      "metadata": {
        "collapsed": true,
        "id": "62BBf_722S6w",
        "colab_type": "code",
        "colab": {}
      },
      "source": [
        "X_train, X_test, y_train, y_test = train_test_split(X, y, test_size=0.5)"
      ],
      "execution_count": 0,
      "outputs": []
    },
    {
      "cell_type": "markdown",
      "metadata": {
        "id": "jBcKDqkj2S6y",
        "colab_type": "text"
      },
      "source": [
        "Construisons une SVM pour la classification des données avec un coût pour une mauvaise classification C très elevé"
      ]
    },
    {
      "cell_type": "code",
      "metadata": {
        "collapsed": true,
        "id": "qdR0REBj2S60",
        "colab_type": "code",
        "colab": {}
      },
      "source": [
        "svm_iris=svm.SVC(kernel='linear',C=1000000000)"
      ],
      "execution_count": 0,
      "outputs": []
    },
    {
      "cell_type": "code",
      "metadata": {
        "id": "3uiDFqVT2S62",
        "colab_type": "code",
        "colab": {},
        "outputId": "c5b7a768-f963-4f64-f1ce-6d419498b012"
      },
      "source": [
        "svm_iris.fit(X_train,y_train)"
      ],
      "execution_count": 0,
      "outputs": [
        {
          "output_type": "execute_result",
          "data": {
            "text/plain": [
              "SVC(C=1000000000, cache_size=200, class_weight=None, coef0=0.0,\n",
              "  decision_function_shape='ovr', degree=3, gamma='auto', kernel='linear',\n",
              "  max_iter=-1, probability=False, random_state=None, shrinking=True,\n",
              "  tol=0.001, verbose=False)"
            ]
          },
          "metadata": {
            "tags": []
          },
          "execution_count": 14
        }
      ]
    },
    {
      "cell_type": "markdown",
      "metadata": {
        "id": "ifve3A8k2S66",
        "colab_type": "text"
      },
      "source": [
        "Faisons maintenant la prédiction sur la base de test"
      ]
    },
    {
      "cell_type": "code",
      "metadata": {
        "collapsed": true,
        "id": "RR9vRf4I2S7A",
        "colab_type": "code",
        "colab": {}
      },
      "source": [
        "y_pred=svm_iris.predict(X_test)"
      ],
      "execution_count": 0,
      "outputs": []
    },
    {
      "cell_type": "markdown",
      "metadata": {
        "id": "MFs1pF5B2S7G",
        "colab_type": "text"
      },
      "source": [
        "Traçons la matrice de confusion"
      ]
    },
    {
      "cell_type": "code",
      "metadata": {
        "id": "2qGh-fRV2S7G",
        "colab_type": "code",
        "colab": {},
        "outputId": "7f0a936c-f146-4c13-c05b-824b9f7aee93"
      },
      "source": [
        "cm = metrics.confusion_matrix(y_test, y_pred)\n",
        "print(\"Confusion matrix:\\n%s\" % cm)"
      ],
      "execution_count": 0,
      "outputs": [
        {
          "output_type": "stream",
          "text": [
            "Confusion matrix:\n",
            "[[25  0  0]\n",
            " [ 0 22  1]\n",
            " [ 0  0 27]]\n"
          ],
          "name": "stdout"
        }
      ]
    },
    {
      "cell_type": "markdown",
      "metadata": {
        "id": "gpzQ6Xtx2S7I",
        "colab_type": "text"
      },
      "source": [
        "**Exercice** : Tester avec d'autres noyaux et d'autres valeurs de C"
      ]
    },
    {
      "cell_type": "code",
      "metadata": {
        "collapsed": true,
        "id": "FE-roXVy2S7I",
        "colab_type": "code",
        "colab": {}
      },
      "source": [
        ""
      ],
      "execution_count": 0,
      "outputs": []
    }
  ]
}